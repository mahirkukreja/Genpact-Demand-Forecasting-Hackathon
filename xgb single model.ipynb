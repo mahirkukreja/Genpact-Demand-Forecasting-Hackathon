{
 "cells": [
  {
   "cell_type": "code",
   "execution_count": 1,
   "metadata": {},
   "outputs": [],
   "source": [
    "#imports\n",
    "import pandas as pd\n",
    "pd.set_option('display.max_rows', 40)\n",
    "pd.set_option('display.max_columns', 40)\n",
    "import hyperopt\n",
    "from hyperopt import hp, tpe, STATUS_OK, Trials\n",
    "from sklearn.model_selection import TimeSeriesSplit\n",
    "from sklearn.metrics import mean_squared_error\n",
    "import pickle\n",
    "import time\n",
    "import numpy as np\n",
    "import xgboost as xgb"
   ]
  },
  {
   "cell_type": "code",
   "execution_count": 2,
   "metadata": {},
   "outputs": [],
   "source": [
    "X_MAIN=pd.read_csv('prepped_train.csv')\n",
    "y_MAIN=X_MAIN['num_orders']"
   ]
  },
  {
   "cell_type": "code",
   "execution_count": 3,
   "metadata": {},
   "outputs": [],
   "source": [
    "test=pd.read_csv('prepped_test.csv')"
   ]
  },
  {
   "cell_type": "code",
   "execution_count": 4,
   "metadata": {},
   "outputs": [],
   "source": [
    "# find unique combos for seperate feature creation\n",
    "g1=test.groupby(by=['center_id','meal_id']).count()\n",
    "g1=g1.add_suffix('_Count').reset_index()\n",
    "ls=[]\n",
    "for i in range(g1.shape[0]):   \n",
    "    ls.append((g1['center_id'][i],g1['meal_id'][i]))"
   ]
  },
  {
   "cell_type": "code",
   "execution_count": 6,
   "metadata": {},
   "outputs": [
    {
     "name": "stdout",
     "output_type": "stream",
     "text": [
      "(41, 1770)\n",
      "(73, 1571)\n",
      "(73, 2956)\n",
      "(76, 1216)\n",
      "(92, 2104)\n",
      "(92, 2577)\n",
      "(102, 2577)\n",
      "(139, 2577)\n",
      "(139, 2867)\n",
      "(152, 2956)\n",
      "(162, 2577)\n"
     ]
    }
   ],
   "source": [
    "# data prep by combining from all combos\n",
    "data_fold1=pd.DataFrame()\n",
    "data_fold2=pd.DataFrame()\n",
    "data_fold3=pd.DataFrame()\n",
    "data_fold4=pd.DataFrame()\n",
    "data_fold5=pd.DataFrame()\n",
    "valid_fold1=pd.DataFrame()\n",
    "valid_fold2=pd.DataFrame()\n",
    "valid_fold3=pd.DataFrame()\n",
    "valid_fold4=pd.DataFrame()\n",
    "valid_fold5=pd.DataFrame()\n",
    "cc=0\n",
    "for j in ls:\n",
    "    cc=cc+1\n",
    "    X=X_MAIN[(X_MAIN[\"center_id\"]==j[0]) & (X_MAIN['meal_id']==j[1])]\n",
    "    y=X['num_orders']\n",
    "    skf = TimeSeriesSplit(n_splits=5)\n",
    "    count=0\n",
    "    try:\n",
    "        for train_index, test_index in skf.split(X[0:X.shape[0]], y):\n",
    "            count=count+1\n",
    "            X_train, X_test = pd.DataFrame(X.values[train_index],columns=X_MAIN.columns,dtype=int), pd.DataFrame(X.values[test_index],columns=X_MAIN.columns,dtype=int)\n",
    "            minn=X_test['week'].min()\n",
    "            X_train=X_train[X_train['week']<=minn-10]\n",
    "            X_test=X_test\n",
    "            if count==1:\n",
    "                data_fold1=data_fold1.append(X_train)\n",
    "                valid_fold1=valid_fold1.append(X_test)\n",
    "            elif count==2:\n",
    "                data_fold2=data_fold2.append(X_train)\n",
    "                valid_fold2=valid_fold2.append(X_test)\n",
    "            elif count==3:\n",
    "                data_fold3=data_fold3.append(X_train)\n",
    "                valid_fold3=valid_fold3.append(X_test)\n",
    "            elif count==4:\n",
    "                data_fold4=data_fold4.append(X_train)\n",
    "                valid_fold4=valid_fold4.append(X_test)\n",
    "            else:\n",
    "                data_fold5=data_fold5.append(X_train)\n",
    "                valid_fold5=valid_fold5.append(X_test)\n",
    "    except:\n",
    "        print(j)\n",
    "        continue"
   ]
  },
  {
   "cell_type": "code",
   "execution_count": 9,
   "metadata": {},
   "outputs": [
    {
     "name": "stdout",
     "output_type": "stream",
     "text": [
      "{'min_child_weight': 11, 'eta': 0.054112783152834326, 'colsample_bytree': 0.9329331790770039, 'max_depth': 10, 'subsample': 0.5745854793052987, 'gamma': 5.391851614290842, 'n_estimators': 350, 'silent': 1, 'verbose_eval': True}\n",
      "0.5466840016312732\n",
      "{'min_child_weight': 5, 'eta': 0.028734744374393828, 'colsample_bytree': 0.7009722443384222, 'max_depth': 15, 'subsample': 0.9346297845667467, 'gamma': 0.5209839177014652, 'n_estimators': 820, 'silent': 1, 'verbose_eval': True}\n",
      "0.554201102568686\n",
      "{'min_child_weight': 18, 'eta': 0.02304043995048209, 'colsample_bytree': 0.601428014075881, 'max_depth': 9, 'subsample': 0.6861674838511556, 'gamma': 2.4492315069822324, 'n_estimators': 390, 'silent': 1, 'verbose_eval': True}\n",
      "0.5420861227682197\n",
      "{'min_child_weight': 18, 'eta': 0.053302215267295144, 'colsample_bytree': 0.6743660003905195, 'max_depth': 6, 'subsample': 0.7210425740673332, 'gamma': 6.189944665472912, 'n_estimators': 430, 'silent': 1, 'verbose_eval': True}\n",
      "0.5464210845073408\n",
      "{'min_child_weight': 10, 'eta': 0.02077048033233408, 'colsample_bytree': 0.8217604768177476, 'max_depth': 3, 'subsample': 0.5845752309098537, 'gamma': 2.992568047731725, 'n_estimators': 240, 'silent': 1, 'verbose_eval': True}\n",
      "0.612487462130737\n",
      "{'min_child_weight': 3, 'eta': 0.06457368867384532, 'colsample_bytree': 0.8341141127408046, 'max_depth': 1, 'subsample': 0.8098435027915536, 'gamma': 3.6183281937116885, 'n_estimators': 720, 'silent': 1, 'verbose_eval': True}\n",
      "0.6322494674684649\n",
      "{'min_child_weight': 9, 'eta': 0.09545063603241197, 'colsample_bytree': 0.766844967049237, 'max_depth': 17, 'subsample': 0.6511784988936207, 'gamma': 9.779784103658587, 'n_estimators': 710, 'silent': 1, 'verbose_eval': True}\n",
      "0.5510050929106086\n",
      "{'min_child_weight': 16, 'eta': 0.06201834405910692, 'colsample_bytree': 0.625927067293778, 'max_depth': 18, 'subsample': 0.983071354519724, 'gamma': 0.010597126884417385, 'n_estimators': 610, 'silent': 1, 'verbose_eval': True}\n",
      "0.5572663806706409\n",
      "{'min_child_weight': 1, 'eta': 0.03174091330324159, 'colsample_bytree': 0.9804397478803747, 'max_depth': 2, 'subsample': 0.9352754378948369, 'gamma': 6.412077256684628, 'n_estimators': 400, 'silent': 1, 'verbose_eval': True}\n",
      "0.6164047134005924\n",
      "{'min_child_weight': 15, 'eta': 0.09266365564845462, 'colsample_bytree': 0.6619804142601446, 'max_depth': 18, 'subsample': 0.5982670787689731, 'gamma': 2.3376144930734375, 'n_estimators': 600, 'silent': 1, 'verbose_eval': True}\n",
      "0.548564150360554\n",
      "{'min_child_weight': 6, 'eta': 0.029650800143651505, 'colsample_bytree': 0.5943516925613932, 'max_depth': 14, 'subsample': 0.84319141058556, 'gamma': 6.772549478512594, 'n_estimators': 770, 'silent': 1, 'verbose_eval': True}\n",
      "0.5438506822393248\n",
      "{'min_child_weight': 4, 'eta': 0.0834141088700675, 'colsample_bytree': 0.5811998350939339, 'max_depth': 9, 'subsample': 0.7716990461374214, 'gamma': 3.516074784402229, 'n_estimators': 970, 'silent': 1, 'verbose_eval': True}\n",
      "0.5590905176163355\n",
      "{'min_child_weight': 10, 'eta': 0.09542884069701736, 'colsample_bytree': 0.8753747079648984, 'max_depth': 4, 'subsample': 0.9574409075361234, 'gamma': 5.865046747336622, 'n_estimators': 340, 'silent': 1, 'verbose_eval': True}\n",
      "0.5511213662822056\n",
      "{'min_child_weight': 2, 'eta': 0.07017937937927032, 'colsample_bytree': 0.8320978669391637, 'max_depth': 19, 'subsample': 0.6691520147150536, 'gamma': 4.471254694689738, 'n_estimators': 640, 'silent': 1, 'verbose_eval': True}\n",
      "0.5659302995028239\n",
      "{'min_child_weight': 3, 'eta': 0.02094562745908448, 'colsample_bytree': 0.6048321813569673, 'max_depth': 12, 'subsample': 0.7152852866739983, 'gamma': 4.728289981857316, 'n_estimators': 880, 'silent': 1, 'verbose_eval': True}\n",
      "0.5523398162367751\n",
      "{'min_child_weight': 6, 'eta': 0.010818634764571278, 'colsample_bytree': 0.8488400835796058, 'max_depth': 4, 'subsample': 0.6157884382578988, 'gamma': 9.767627293297465, 'n_estimators': 360, 'silent': 1, 'verbose_eval': True}\n",
      "0.6012446255454931\n",
      "{'min_child_weight': 17, 'eta': 0.02760421370923679, 'colsample_bytree': 0.8615756887232167, 'max_depth': 14, 'subsample': 0.7766832162446399, 'gamma': 4.272673829991568, 'n_estimators': 210, 'silent': 1, 'verbose_eval': True}\n",
      "0.5492023545101595\n",
      "{'min_child_weight': 4, 'eta': 0.06874630523839706, 'colsample_bytree': 0.6273054668580632, 'max_depth': 7, 'subsample': 0.8865863511854793, 'gamma': 6.073945259748083, 'n_estimators': 140, 'silent': 1, 'verbose_eval': True}\n",
      "0.5500914136881556\n",
      "{'min_child_weight': 16, 'eta': 0.019445120510627814, 'colsample_bytree': 0.5607500594174438, 'max_depth': 4, 'subsample': 0.6329512268120508, 'gamma': 4.801794089352081, 'n_estimators': 450, 'silent': 1, 'verbose_eval': True}\n",
      "0.5727961311442795\n",
      "{'min_child_weight': 9, 'eta': 0.06081862696059915, 'colsample_bytree': 0.6726255843855458, 'max_depth': 8, 'subsample': 0.860003096337786, 'gamma': 3.628688130638583, 'n_estimators': 420, 'silent': 1, 'verbose_eval': True}\n",
      "0.5428435364312633\n",
      "{'min_child_weight': 18, 'eta': 0.044952586026178784, 'colsample_bytree': 0.5141486064237584, 'max_depth': 5, 'subsample': 0.5124425275128444, 'gamma': 1.3118615733720156, 'n_estimators': 250, 'silent': 1, 'verbose_eval': True}\n",
      "0.5542989433278223\n",
      "{'min_child_weight': 13, 'eta': 0.04051847071811114, 'colsample_bytree': 0.7357822058126855, 'max_depth': 8, 'subsample': 0.8659536730717773, 'gamma': 1.8331598715026984, 'n_estimators': 410, 'silent': 1, 'verbose_eval': True}\n",
      "0.5417664851717899\n",
      "{'min_child_weight': 13, 'eta': 0.0442991404548819, 'colsample_bytree': 0.7461521330397556, 'max_depth': 8, 'subsample': 0.5129731289483332, 'gamma': 2.027370187240268, 'n_estimators': 390, 'silent': 1, 'verbose_eval': True}\n",
      "0.5418596972301638\n",
      "{'min_child_weight': 13, 'eta': 0.03958887741804744, 'colsample_bytree': 0.7443787645516902, 'max_depth': 8, 'subsample': 0.9021398533405871, 'gamma': 1.2301766680324495, 'n_estimators': 410, 'silent': 1, 'verbose_eval': True}\n",
      "0.5413848298152978\n",
      "{'min_child_weight': 13, 'eta': 0.03921606038748201, 'colsample_bytree': 0.7543591117323284, 'max_depth': 16, 'subsample': 0.895012518760292, 'gamma': 0.8408419315433661, 'n_estimators': 410, 'silent': 1, 'verbose_eval': True}\n",
      "0.5477194291502647\n",
      "{'min_child_weight': 13, 'eta': 0.011029662780268724, 'colsample_bytree': 0.7916795781466721, 'max_depth': 8, 'subsample': 0.8010751100464807, 'gamma': 7.849900384736171, 'n_estimators': 410, 'silent': 1, 'verbose_eval': True}\n",
      "0.5572773973499892\n",
      "{'min_child_weight': 14, 'eta': 0.03786125695065396, 'colsample_bytree': 0.711110223144501, 'max_depth': 11, 'subsample': 0.89663087000268, 'gamma': 1.4190036917246684, 'n_estimators': 990, 'silent': 1, 'verbose_eval': True}\n"
     ]
    },
    {
     "ename": "KeyboardInterrupt",
     "evalue": "",
     "output_type": "error",
     "traceback": [
      "\u001b[0;31m---------------------------------------------------------------------------\u001b[0m",
      "\u001b[0;31mKeyboardInterrupt\u001b[0m                         Traceback (most recent call last)",
      "\u001b[0;32m<ipython-input-9-18d8cb176b4a>\u001b[0m in \u001b[0;36m<module>\u001b[0;34m\u001b[0m\n\u001b[1;32m     88\u001b[0m             \u001b[0malgo\u001b[0m\u001b[0;34m=\u001b[0m\u001b[0mtpe\u001b[0m\u001b[0;34m.\u001b[0m\u001b[0msuggest\u001b[0m\u001b[0;34m,\u001b[0m\u001b[0;34m\u001b[0m\u001b[0;34m\u001b[0m\u001b[0m\n\u001b[1;32m     89\u001b[0m             \u001b[0mmax_evals\u001b[0m\u001b[0;34m=\u001b[0m\u001b[0;36m100\u001b[0m\u001b[0;34m,\u001b[0m\u001b[0;34m\u001b[0m\u001b[0;34m\u001b[0m\u001b[0m\n\u001b[0;32m---> 90\u001b[0;31m             \u001b[0mtrials\u001b[0m\u001b[0;34m=\u001b[0m\u001b[0mtrials\u001b[0m\u001b[0;34m\u001b[0m\u001b[0;34m\u001b[0m\u001b[0m\n\u001b[0m\u001b[1;32m     91\u001b[0m )\n",
      "\u001b[0;32m~/anaconda3/lib/python3.7/site-packages/hyperopt/fmin.py\u001b[0m in \u001b[0;36mfmin\u001b[0;34m(fn, space, algo, max_evals, trials, rstate, allow_trials_fmin, pass_expr_memo_ctrl, catch_eval_exceptions, verbose, return_argmin, points_to_evaluate, max_queue_len)\u001b[0m\n\u001b[1;32m    365\u001b[0m             \u001b[0mverbose\u001b[0m\u001b[0;34m=\u001b[0m\u001b[0mverbose\u001b[0m\u001b[0;34m,\u001b[0m\u001b[0;34m\u001b[0m\u001b[0;34m\u001b[0m\u001b[0m\n\u001b[1;32m    366\u001b[0m             \u001b[0mcatch_eval_exceptions\u001b[0m\u001b[0;34m=\u001b[0m\u001b[0mcatch_eval_exceptions\u001b[0m\u001b[0;34m,\u001b[0m\u001b[0;34m\u001b[0m\u001b[0;34m\u001b[0m\u001b[0m\n\u001b[0;32m--> 367\u001b[0;31m             \u001b[0mreturn_argmin\u001b[0m\u001b[0;34m=\u001b[0m\u001b[0mreturn_argmin\u001b[0m\u001b[0;34m,\u001b[0m\u001b[0;34m\u001b[0m\u001b[0;34m\u001b[0m\u001b[0m\n\u001b[0m\u001b[1;32m    368\u001b[0m         )\n\u001b[1;32m    369\u001b[0m \u001b[0;34m\u001b[0m\u001b[0m\n",
      "\u001b[0;32m~/anaconda3/lib/python3.7/site-packages/hyperopt/base.py\u001b[0m in \u001b[0;36mfmin\u001b[0;34m(self, fn, space, algo, max_evals, rstate, verbose, pass_expr_memo_ctrl, catch_eval_exceptions, return_argmin)\u001b[0m\n\u001b[1;32m    633\u001b[0m             \u001b[0mpass_expr_memo_ctrl\u001b[0m\u001b[0;34m=\u001b[0m\u001b[0mpass_expr_memo_ctrl\u001b[0m\u001b[0;34m,\u001b[0m\u001b[0;34m\u001b[0m\u001b[0;34m\u001b[0m\u001b[0m\n\u001b[1;32m    634\u001b[0m             \u001b[0mcatch_eval_exceptions\u001b[0m\u001b[0;34m=\u001b[0m\u001b[0mcatch_eval_exceptions\u001b[0m\u001b[0;34m,\u001b[0m\u001b[0;34m\u001b[0m\u001b[0;34m\u001b[0m\u001b[0m\n\u001b[0;32m--> 635\u001b[0;31m             return_argmin=return_argmin)\n\u001b[0m\u001b[1;32m    636\u001b[0m \u001b[0;34m\u001b[0m\u001b[0m\n\u001b[1;32m    637\u001b[0m \u001b[0;34m\u001b[0m\u001b[0m\n",
      "\u001b[0;32m~/anaconda3/lib/python3.7/site-packages/hyperopt/fmin.py\u001b[0m in \u001b[0;36mfmin\u001b[0;34m(fn, space, algo, max_evals, trials, rstate, allow_trials_fmin, pass_expr_memo_ctrl, catch_eval_exceptions, verbose, return_argmin, points_to_evaluate, max_queue_len)\u001b[0m\n\u001b[1;32m    383\u001b[0m                     max_queue_len=max_queue_len)\n\u001b[1;32m    384\u001b[0m     \u001b[0mrval\u001b[0m\u001b[0;34m.\u001b[0m\u001b[0mcatch_eval_exceptions\u001b[0m \u001b[0;34m=\u001b[0m \u001b[0mcatch_eval_exceptions\u001b[0m\u001b[0;34m\u001b[0m\u001b[0;34m\u001b[0m\u001b[0m\n\u001b[0;32m--> 385\u001b[0;31m     \u001b[0mrval\u001b[0m\u001b[0;34m.\u001b[0m\u001b[0mexhaust\u001b[0m\u001b[0;34m(\u001b[0m\u001b[0;34m)\u001b[0m\u001b[0;34m\u001b[0m\u001b[0;34m\u001b[0m\u001b[0m\n\u001b[0m\u001b[1;32m    386\u001b[0m     \u001b[0;32mif\u001b[0m \u001b[0mreturn_argmin\u001b[0m\u001b[0;34m:\u001b[0m\u001b[0;34m\u001b[0m\u001b[0;34m\u001b[0m\u001b[0m\n\u001b[1;32m    387\u001b[0m         \u001b[0;32mreturn\u001b[0m \u001b[0mtrials\u001b[0m\u001b[0;34m.\u001b[0m\u001b[0margmin\u001b[0m\u001b[0;34m\u001b[0m\u001b[0;34m\u001b[0m\u001b[0m\n",
      "\u001b[0;32m~/anaconda3/lib/python3.7/site-packages/hyperopt/fmin.py\u001b[0m in \u001b[0;36mexhaust\u001b[0;34m(self)\u001b[0m\n\u001b[1;32m    242\u001b[0m     \u001b[0;32mdef\u001b[0m \u001b[0mexhaust\u001b[0m\u001b[0;34m(\u001b[0m\u001b[0mself\u001b[0m\u001b[0;34m)\u001b[0m\u001b[0;34m:\u001b[0m\u001b[0;34m\u001b[0m\u001b[0;34m\u001b[0m\u001b[0m\n\u001b[1;32m    243\u001b[0m         \u001b[0mn_done\u001b[0m \u001b[0;34m=\u001b[0m \u001b[0mlen\u001b[0m\u001b[0;34m(\u001b[0m\u001b[0mself\u001b[0m\u001b[0;34m.\u001b[0m\u001b[0mtrials\u001b[0m\u001b[0;34m)\u001b[0m\u001b[0;34m\u001b[0m\u001b[0;34m\u001b[0m\u001b[0m\n\u001b[0;32m--> 244\u001b[0;31m         \u001b[0mself\u001b[0m\u001b[0;34m.\u001b[0m\u001b[0mrun\u001b[0m\u001b[0;34m(\u001b[0m\u001b[0mself\u001b[0m\u001b[0;34m.\u001b[0m\u001b[0mmax_evals\u001b[0m \u001b[0;34m-\u001b[0m \u001b[0mn_done\u001b[0m\u001b[0;34m,\u001b[0m \u001b[0mblock_until_done\u001b[0m\u001b[0;34m=\u001b[0m\u001b[0mself\u001b[0m\u001b[0;34m.\u001b[0m\u001b[0masynchronous\u001b[0m\u001b[0;34m)\u001b[0m\u001b[0;34m\u001b[0m\u001b[0;34m\u001b[0m\u001b[0m\n\u001b[0m\u001b[1;32m    245\u001b[0m         \u001b[0mself\u001b[0m\u001b[0;34m.\u001b[0m\u001b[0mtrials\u001b[0m\u001b[0;34m.\u001b[0m\u001b[0mrefresh\u001b[0m\u001b[0;34m(\u001b[0m\u001b[0;34m)\u001b[0m\u001b[0;34m\u001b[0m\u001b[0;34m\u001b[0m\u001b[0m\n\u001b[1;32m    246\u001b[0m         \u001b[0;32mreturn\u001b[0m \u001b[0mself\u001b[0m\u001b[0;34m\u001b[0m\u001b[0;34m\u001b[0m\u001b[0m\n",
      "\u001b[0;32m~/anaconda3/lib/python3.7/site-packages/hyperopt/fmin.py\u001b[0m in \u001b[0;36mrun\u001b[0;34m(self, N, block_until_done)\u001b[0m\n\u001b[1;32m    216\u001b[0m             \u001b[0;32melse\u001b[0m\u001b[0;34m:\u001b[0m\u001b[0;34m\u001b[0m\u001b[0;34m\u001b[0m\u001b[0m\n\u001b[1;32m    217\u001b[0m                 \u001b[0;31m# -- loop over trials and do the jobs directly\u001b[0m\u001b[0;34m\u001b[0m\u001b[0;34m\u001b[0m\u001b[0;34m\u001b[0m\u001b[0m\n\u001b[0;32m--> 218\u001b[0;31m                 \u001b[0mself\u001b[0m\u001b[0;34m.\u001b[0m\u001b[0mserial_evaluate\u001b[0m\u001b[0;34m(\u001b[0m\u001b[0;34m)\u001b[0m\u001b[0;34m\u001b[0m\u001b[0;34m\u001b[0m\u001b[0m\n\u001b[0m\u001b[1;32m    219\u001b[0m \u001b[0;34m\u001b[0m\u001b[0m\n\u001b[1;32m    220\u001b[0m             \u001b[0;32mif\u001b[0m \u001b[0mstopped\u001b[0m\u001b[0;34m:\u001b[0m\u001b[0;34m\u001b[0m\u001b[0;34m\u001b[0m\u001b[0m\n",
      "\u001b[0;32m~/anaconda3/lib/python3.7/site-packages/hyperopt/fmin.py\u001b[0m in \u001b[0;36mserial_evaluate\u001b[0;34m(self, N)\u001b[0m\n\u001b[1;32m    135\u001b[0m                 \u001b[0mctrl\u001b[0m \u001b[0;34m=\u001b[0m \u001b[0mbase\u001b[0m\u001b[0;34m.\u001b[0m\u001b[0mCtrl\u001b[0m\u001b[0;34m(\u001b[0m\u001b[0mself\u001b[0m\u001b[0;34m.\u001b[0m\u001b[0mtrials\u001b[0m\u001b[0;34m,\u001b[0m \u001b[0mcurrent_trial\u001b[0m\u001b[0;34m=\u001b[0m\u001b[0mtrial\u001b[0m\u001b[0;34m)\u001b[0m\u001b[0;34m\u001b[0m\u001b[0;34m\u001b[0m\u001b[0m\n\u001b[1;32m    136\u001b[0m                 \u001b[0;32mtry\u001b[0m\u001b[0;34m:\u001b[0m\u001b[0;34m\u001b[0m\u001b[0;34m\u001b[0m\u001b[0m\n\u001b[0;32m--> 137\u001b[0;31m                     \u001b[0mresult\u001b[0m \u001b[0;34m=\u001b[0m \u001b[0mself\u001b[0m\u001b[0;34m.\u001b[0m\u001b[0mdomain\u001b[0m\u001b[0;34m.\u001b[0m\u001b[0mevaluate\u001b[0m\u001b[0;34m(\u001b[0m\u001b[0mspec\u001b[0m\u001b[0;34m,\u001b[0m \u001b[0mctrl\u001b[0m\u001b[0;34m)\u001b[0m\u001b[0;34m\u001b[0m\u001b[0;34m\u001b[0m\u001b[0m\n\u001b[0m\u001b[1;32m    138\u001b[0m                 \u001b[0;32mexcept\u001b[0m \u001b[0mException\u001b[0m \u001b[0;32mas\u001b[0m \u001b[0me\u001b[0m\u001b[0;34m:\u001b[0m\u001b[0;34m\u001b[0m\u001b[0;34m\u001b[0m\u001b[0m\n\u001b[1;32m    139\u001b[0m                     \u001b[0mlogger\u001b[0m\u001b[0;34m.\u001b[0m\u001b[0minfo\u001b[0m\u001b[0;34m(\u001b[0m\u001b[0;34m'job exception: %s'\u001b[0m \u001b[0;34m%\u001b[0m \u001b[0mstr\u001b[0m\u001b[0;34m(\u001b[0m\u001b[0me\u001b[0m\u001b[0;34m)\u001b[0m\u001b[0;34m)\u001b[0m\u001b[0;34m\u001b[0m\u001b[0;34m\u001b[0m\u001b[0m\n",
      "\u001b[0;32m~/anaconda3/lib/python3.7/site-packages/hyperopt/base.py\u001b[0m in \u001b[0;36mevaluate\u001b[0;34m(self, config, ctrl, attach_attachments)\u001b[0m\n\u001b[1;32m    838\u001b[0m                 \u001b[0mmemo\u001b[0m\u001b[0;34m=\u001b[0m\u001b[0mmemo\u001b[0m\u001b[0;34m,\u001b[0m\u001b[0;34m\u001b[0m\u001b[0;34m\u001b[0m\u001b[0m\n\u001b[1;32m    839\u001b[0m                 print_node_on_error=self.rec_eval_print_node_on_error)\n\u001b[0;32m--> 840\u001b[0;31m             \u001b[0mrval\u001b[0m \u001b[0;34m=\u001b[0m \u001b[0mself\u001b[0m\u001b[0;34m.\u001b[0m\u001b[0mfn\u001b[0m\u001b[0;34m(\u001b[0m\u001b[0mpyll_rval\u001b[0m\u001b[0;34m)\u001b[0m\u001b[0;34m\u001b[0m\u001b[0;34m\u001b[0m\u001b[0m\n\u001b[0m\u001b[1;32m    841\u001b[0m \u001b[0;34m\u001b[0m\u001b[0m\n\u001b[1;32m    842\u001b[0m         \u001b[0;32mif\u001b[0m \u001b[0misinstance\u001b[0m\u001b[0;34m(\u001b[0m\u001b[0mrval\u001b[0m\u001b[0;34m,\u001b[0m \u001b[0;34m(\u001b[0m\u001b[0mfloat\u001b[0m\u001b[0;34m,\u001b[0m \u001b[0mint\u001b[0m\u001b[0;34m,\u001b[0m \u001b[0mnp\u001b[0m\u001b[0;34m.\u001b[0m\u001b[0mnumber\u001b[0m\u001b[0;34m)\u001b[0m\u001b[0;34m)\u001b[0m\u001b[0;34m:\u001b[0m\u001b[0;34m\u001b[0m\u001b[0;34m\u001b[0m\u001b[0m\n",
      "\u001b[0;32m<ipython-input-9-18d8cb176b4a>\u001b[0m in \u001b[0;36mobjective\u001b[0;34m(space)\u001b[0m\n\u001b[1;32m     68\u001b[0m     \u001b[0mX_test\u001b[0m\u001b[0;34m=\u001b[0m\u001b[0mX_test\u001b[0m\u001b[0;34m.\u001b[0m\u001b[0mdrop\u001b[0m\u001b[0;34m(\u001b[0m\u001b[0;34m[\u001b[0m\u001b[0;34m'num_orders'\u001b[0m\u001b[0;34m,\u001b[0m\u001b[0;34m'week'\u001b[0m\u001b[0;34m]\u001b[0m\u001b[0;34m,\u001b[0m\u001b[0maxis\u001b[0m\u001b[0;34m=\u001b[0m\u001b[0;36m1\u001b[0m\u001b[0;34m)\u001b[0m\u001b[0;34m\u001b[0m\u001b[0;34m\u001b[0m\u001b[0m\n\u001b[1;32m     69\u001b[0m     \u001b[0mxgtrain\u001b[0m \u001b[0;34m=\u001b[0m \u001b[0mxgb\u001b[0m\u001b[0;34m.\u001b[0m\u001b[0mDMatrix\u001b[0m\u001b[0;34m(\u001b[0m\u001b[0mX_train\u001b[0m\u001b[0;34m,\u001b[0m \u001b[0mlabel\u001b[0m\u001b[0;34m=\u001b[0m\u001b[0my_train\u001b[0m\u001b[0;34m)\u001b[0m\u001b[0;34m\u001b[0m\u001b[0;34m\u001b[0m\u001b[0m\n\u001b[0;32m---> 70\u001b[0;31m     \u001b[0mmodel\u001b[0m \u001b[0;34m=\u001b[0m \u001b[0mxgb\u001b[0m\u001b[0;34m.\u001b[0m\u001b[0mtrain\u001b[0m\u001b[0;34m(\u001b[0m\u001b[0mparams\u001b[0m\u001b[0;34m,\u001b[0m\u001b[0mxgtrain\u001b[0m\u001b[0;34m,\u001b[0m\u001b[0mspace\u001b[0m\u001b[0;34m[\u001b[0m\u001b[0;34m'n_estimators'\u001b[0m\u001b[0;34m]\u001b[0m\u001b[0;34m)\u001b[0m\u001b[0;34m\u001b[0m\u001b[0;34m\u001b[0m\u001b[0m\n\u001b[0m\u001b[1;32m     71\u001b[0m     \u001b[0mcount\u001b[0m\u001b[0;34m=\u001b[0m\u001b[0mcount\u001b[0m\u001b[0;34m+\u001b[0m\u001b[0mnp\u001b[0m\u001b[0;34m.\u001b[0m\u001b[0msqrt\u001b[0m\u001b[0;34m(\u001b[0m\u001b[0mmean_squared_error\u001b[0m\u001b[0;34m(\u001b[0m\u001b[0my_test\u001b[0m\u001b[0;34m,\u001b[0m\u001b[0mmodel\u001b[0m\u001b[0;34m.\u001b[0m\u001b[0mpredict\u001b[0m\u001b[0;34m(\u001b[0m\u001b[0mxgb\u001b[0m\u001b[0;34m.\u001b[0m\u001b[0mDMatrix\u001b[0m\u001b[0;34m(\u001b[0m\u001b[0mX_test\u001b[0m\u001b[0;34m)\u001b[0m\u001b[0;34m)\u001b[0m\u001b[0;34m)\u001b[0m\u001b[0;34m)\u001b[0m\u001b[0;34m\u001b[0m\u001b[0;34m\u001b[0m\u001b[0m\n\u001b[1;32m     72\u001b[0m     \u001b[0mX_train\u001b[0m\u001b[0;34m=\u001b[0m\u001b[0mdata_fold5\u001b[0m\u001b[0;34m\u001b[0m\u001b[0;34m\u001b[0m\u001b[0m\n",
      "\u001b[0;32m~/anaconda3/lib/python3.7/site-packages/xgboost/training.py\u001b[0m in \u001b[0;36mtrain\u001b[0;34m(params, dtrain, num_boost_round, evals, obj, feval, maximize, early_stopping_rounds, evals_result, verbose_eval, xgb_model, callbacks, learning_rates)\u001b[0m\n\u001b[1;32m    214\u001b[0m                            \u001b[0mevals\u001b[0m\u001b[0;34m=\u001b[0m\u001b[0mevals\u001b[0m\u001b[0;34m,\u001b[0m\u001b[0;34m\u001b[0m\u001b[0;34m\u001b[0m\u001b[0m\n\u001b[1;32m    215\u001b[0m                            \u001b[0mobj\u001b[0m\u001b[0;34m=\u001b[0m\u001b[0mobj\u001b[0m\u001b[0;34m,\u001b[0m \u001b[0mfeval\u001b[0m\u001b[0;34m=\u001b[0m\u001b[0mfeval\u001b[0m\u001b[0;34m,\u001b[0m\u001b[0;34m\u001b[0m\u001b[0;34m\u001b[0m\u001b[0m\n\u001b[0;32m--> 216\u001b[0;31m                            xgb_model=xgb_model, callbacks=callbacks)\n\u001b[0m\u001b[1;32m    217\u001b[0m \u001b[0;34m\u001b[0m\u001b[0m\n\u001b[1;32m    218\u001b[0m \u001b[0;34m\u001b[0m\u001b[0m\n",
      "\u001b[0;32m~/anaconda3/lib/python3.7/site-packages/xgboost/training.py\u001b[0m in \u001b[0;36m_train_internal\u001b[0;34m(params, dtrain, num_boost_round, evals, obj, feval, xgb_model, callbacks)\u001b[0m\n\u001b[1;32m     72\u001b[0m         \u001b[0;31m# Skip the first update if it is a recovery step.\u001b[0m\u001b[0;34m\u001b[0m\u001b[0;34m\u001b[0m\u001b[0;34m\u001b[0m\u001b[0m\n\u001b[1;32m     73\u001b[0m         \u001b[0;32mif\u001b[0m \u001b[0mversion\u001b[0m \u001b[0;34m%\u001b[0m \u001b[0;36m2\u001b[0m \u001b[0;34m==\u001b[0m \u001b[0;36m0\u001b[0m\u001b[0;34m:\u001b[0m\u001b[0;34m\u001b[0m\u001b[0;34m\u001b[0m\u001b[0m\n\u001b[0;32m---> 74\u001b[0;31m             \u001b[0mbst\u001b[0m\u001b[0;34m.\u001b[0m\u001b[0mupdate\u001b[0m\u001b[0;34m(\u001b[0m\u001b[0mdtrain\u001b[0m\u001b[0;34m,\u001b[0m \u001b[0mi\u001b[0m\u001b[0;34m,\u001b[0m \u001b[0mobj\u001b[0m\u001b[0;34m)\u001b[0m\u001b[0;34m\u001b[0m\u001b[0;34m\u001b[0m\u001b[0m\n\u001b[0m\u001b[1;32m     75\u001b[0m             \u001b[0mbst\u001b[0m\u001b[0;34m.\u001b[0m\u001b[0msave_rabit_checkpoint\u001b[0m\u001b[0;34m(\u001b[0m\u001b[0;34m)\u001b[0m\u001b[0;34m\u001b[0m\u001b[0;34m\u001b[0m\u001b[0m\n\u001b[1;32m     76\u001b[0m             \u001b[0mversion\u001b[0m \u001b[0;34m+=\u001b[0m \u001b[0;36m1\u001b[0m\u001b[0;34m\u001b[0m\u001b[0;34m\u001b[0m\u001b[0m\n",
      "\u001b[0;32m~/anaconda3/lib/python3.7/site-packages/xgboost/core.py\u001b[0m in \u001b[0;36mupdate\u001b[0;34m(self, dtrain, iteration, fobj)\u001b[0m\n\u001b[1;32m   1043\u001b[0m         \u001b[0;32mif\u001b[0m \u001b[0mfobj\u001b[0m \u001b[0;32mis\u001b[0m \u001b[0;32mNone\u001b[0m\u001b[0;34m:\u001b[0m\u001b[0;34m\u001b[0m\u001b[0;34m\u001b[0m\u001b[0m\n\u001b[1;32m   1044\u001b[0m             _check_call(_LIB.XGBoosterUpdateOneIter(self.handle, ctypes.c_int(iteration),\n\u001b[0;32m-> 1045\u001b[0;31m                                                     dtrain.handle))\n\u001b[0m\u001b[1;32m   1046\u001b[0m         \u001b[0;32melse\u001b[0m\u001b[0;34m:\u001b[0m\u001b[0;34m\u001b[0m\u001b[0;34m\u001b[0m\u001b[0m\n\u001b[1;32m   1047\u001b[0m             \u001b[0mpred\u001b[0m \u001b[0;34m=\u001b[0m \u001b[0mself\u001b[0m\u001b[0;34m.\u001b[0m\u001b[0mpredict\u001b[0m\u001b[0;34m(\u001b[0m\u001b[0mdtrain\u001b[0m\u001b[0;34m)\u001b[0m\u001b[0;34m\u001b[0m\u001b[0;34m\u001b[0m\u001b[0m\n",
      "\u001b[0;31mKeyboardInterrupt\u001b[0m: "
     ]
    }
   ],
   "source": [
    "# hyperparameter tuning\n",
    "param_dict={}\n",
    "space = {\n",
    "        'max_depth': hp.choice('max_depth', np.arange(1, 20, dtype=int)),\n",
    "        'min_child_weight': hp.choice('min_child_weight', np.arange(1, 20, dtype=int)),\n",
    "        'subsample': hp.uniform('subsample', 0.5, 1),\n",
    "        'n_estimators': hp.choice('n_estimators', np.arange(10, 1000, 10, dtype=int)),\n",
    "        'learning_rate': hp.uniform('learning_rate', 0.01, 0.1),\n",
    "        'gamma': hp.uniform('gamma', 0, 10),\n",
    "        'colsample_bytree': hp.uniform('colsample_bytree', 0.5, 1)\n",
    "}\n",
    "\n",
    "\n",
    "def objective(space):\n",
    "    params = {\n",
    "            'min_child_weight': space['min_child_weight'],\n",
    "            'eta': space['learning_rate'],\n",
    "            'colsample_bytree': space['colsample_bytree'],\n",
    "            'max_depth': space['max_depth'],\n",
    "            'subsample': space['subsample'],\n",
    "            'gamma': space['gamma'],\n",
    "            'n_estimators': space['n_estimators'],\n",
    "            'silent': 1,\n",
    "            'verbose_eval': True\n",
    "\n",
    "}\n",
    "    print(params)\n",
    "    count=0\n",
    "    X_train=data_fold1\n",
    "    X_test=valid_fold1\n",
    "    y_train=X_train['num_orders']\n",
    "    y_train=np.log1p(y_train)\n",
    "    y_test=X_test['num_orders']\n",
    "    y_test=np.log1p(y_test)\n",
    "    X_train=X_train.drop(['num_orders','week'],axis=1)\n",
    "    X_test=X_test.drop(['num_orders','week'],axis=1) \n",
    "    xgtrain = xgb.DMatrix(X_train, label=y_train)\n",
    "    model = xgb.train(params,xgtrain,space['n_estimators'])\n",
    "    count=count+np.sqrt(mean_squared_error(y_test,model.predict(xgb.DMatrix(X_test)))) \n",
    "    X_train=data_fold2\n",
    "    X_test=valid_fold2\n",
    "    y_train=X_train['num_orders']\n",
    "    y_train=np.log1p(y_train)\n",
    "    y_test=X_test['num_orders']\n",
    "    y_test=np.log1p(y_test)\n",
    "    X_train=X_train.drop(['num_orders','week'],axis=1)\n",
    "    X_test=X_test.drop(['num_orders','week'],axis=1)\n",
    "    xgtrain = xgb.DMatrix(X_train, label=y_train)\n",
    "    model = xgb.train(params,xgtrain,space['n_estimators'])\n",
    "    count=count+np.sqrt(mean_squared_error(y_test,model.predict(xgb.DMatrix(X_test)))) \n",
    "    X_train=data_fold3\n",
    "    X_test=valid_fold3\n",
    "    y_train=X_train['num_orders']\n",
    "    y_train=np.log1p(y_train)\n",
    "    y_test=X_test['num_orders']\n",
    "    y_test=np.log1p(y_test)\n",
    "    X_train=X_train.drop(['num_orders','week'],axis=1)\n",
    "    X_test=X_test.drop(['num_orders','week'],axis=1)\n",
    "    xgtrain = xgb.DMatrix(X_train, label=y_train)\n",
    "    model = xgb.train(params,xgtrain,space['n_estimators'])\n",
    "    count=count+np.sqrt(mean_squared_error(y_test,model.predict(xgb.DMatrix(X_test)))) \n",
    "    X_train=data_fold4\n",
    "    X_test=valid_fold4\n",
    "    y_train=X_train['num_orders']\n",
    "    y_train=np.log1p(y_train)\n",
    "    y_test=X_test['num_orders']\n",
    "    y_test=np.log1p(y_test)\n",
    "    X_train=X_train.drop(['num_orders','week'],axis=1)\n",
    "    X_test=X_test.drop(['num_orders','week'],axis=1)\n",
    "    xgtrain = xgb.DMatrix(X_train, label=y_train)\n",
    "    model = xgb.train(params,xgtrain,space['n_estimators'])\n",
    "    count=count+np.sqrt(mean_squared_error(y_test,model.predict(xgb.DMatrix(X_test)))) \n",
    "    X_train=data_fold5\n",
    "    X_test=valid_fold5\n",
    "    y_train=X_train['num_orders']\n",
    "    y_train=np.log1p(y_train)\n",
    "    y_test=X_test['num_orders']\n",
    "    y_test=np.log1p(y_test)\n",
    "    X_train=X_train.drop(['num_orders','week'],axis=1)\n",
    "    X_test=X_test.drop(['num_orders','week'],axis=1)\n",
    "    xgtrain = xgb.DMatrix(X_train, label=y_train)\n",
    "    model = xgb.train(params,xgtrain,space['n_estimators'])\n",
    "    count=count+np.sqrt(mean_squared_error(y_test,model.predict(xgb.DMatrix(X_test)))) \n",
    "    print(count/5)\n",
    "    return count/5\n",
    "trials = Trials()\n",
    "best = hyperopt.fmin(fn=objective,\n",
    "            space=space,\n",
    "            algo=tpe.suggest,\n",
    "            max_evals=100,\n",
    "            trials=trials\n",
    ")"
   ]
  },
  {
   "cell_type": "code",
   "execution_count": null,
   "metadata": {},
   "outputs": [],
   "source": [
    "# best params\n",
    "# {'min_child_weight': 13, 'eta': 0.03958887741804744, 'colsample_bytree': 0.7443787645516902, 'max_depth': 8, 'subsample': 0.9021398533405871, 'gamma': 1.2301766680324495, 'n_estimators': 410, 'silent': 1, 'verbose_eval': True}\n",
    "# 0.5413848298152978"
   ]
  },
  {
   "cell_type": "code",
   "execution_count": 11,
   "metadata": {},
   "outputs": [],
   "source": [
    "X_train=X_MAIN.drop(['num_orders','week'],axis=1)\n",
    "Y=np.log1p(y_MAIN)\n",
    "X_test=test.drop(['num_orders','week'],axis=1)"
   ]
  },
  {
   "cell_type": "code",
   "execution_count": 14,
   "metadata": {},
   "outputs": [],
   "source": [
    "space={'min_child_weight': 13, 'eta': 0.03958887741804744, 'colsample_bytree': 0.7443787645516902, 'max_depth': 8, 'subsample': 0.9021398533405871, 'gamma': 1.2301766680324495, 'n_estimators': 410, 'silent': 1, 'verbose_eval': True}\n",
    "xgtrain = xgb.DMatrix(X, label=Y)\n",
    "model = xgb.train(space,xgtrain,space['n_estimators'])"
   ]
  },
  {
   "cell_type": "code",
   "execution_count": 15,
   "metadata": {},
   "outputs": [],
   "source": [
    "preds=model.predict(xgb.DMatrix(X_test))"
   ]
  },
  {
   "cell_type": "code",
   "execution_count": 35,
   "metadata": {},
   "outputs": [],
   "source": [
    "df=pickle.load(open('training_data','rb'))\n",
    "df=df[df.week>=146]\n",
    "ids=df['id']"
   ]
  },
  {
   "cell_type": "code",
   "execution_count": 36,
   "metadata": {},
   "outputs": [],
   "source": [
    "sub=pd.DataFrame()\n",
    "sub['id']=ids\n",
    "sub['num_orders']=list(np.expm1((preds)))"
   ]
  },
  {
   "cell_type": "code",
   "execution_count": 38,
   "metadata": {},
   "outputs": [],
   "source": [
    "sub.to_csv('submission.csv',index=False)"
   ]
  }
 ],
 "metadata": {
  "kernelspec": {
   "display_name": "Python 3",
   "language": "python",
   "name": "python3"
  },
  "language_info": {
   "codemirror_mode": {
    "name": "ipython",
    "version": 3
   },
   "file_extension": ".py",
   "mimetype": "text/x-python",
   "name": "python",
   "nbconvert_exporter": "python",
   "pygments_lexer": "ipython3",
   "version": "3.7.1"
  }
 },
 "nbformat": 4,
 "nbformat_minor": 2
}
